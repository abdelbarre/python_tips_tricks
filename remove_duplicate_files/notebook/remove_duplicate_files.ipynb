{
 "cells": [
  {
   "cell_type": "markdown",
   "metadata": {},
   "source": [
    "## Trick and Tip 1 : removing the duplicate files from the same Folder "
   ]
  },
  {
   "cell_type": "markdown",
   "metadata": {},
   "source": [
    "Here we go for a new tips"
   ]
  },
  {
   "cell_type": "code",
   "execution_count": 3,
   "metadata": {},
   "outputs": [],
   "source": [
    "# Libs Import\n",
    "import os\n",
    "import sys"
   ]
  },
  {
   "cell_type": "raw",
   "metadata": {},
   "source": [
    "Let's remove all duplicate file from folder. Imagine that you have a multiple files with many of them are duplicate.\n",
    "This part of code can simplify the removing task of duplicate files. \n",
    "for exemple we have as input :\n",
    "file.txt\n",
    "file(1).txt\n",
    "image_a.png\n",
    "image_a(1).png\n",
    "...\n",
    "\n",
    "and we aim to get as ouput :\n",
    "file.txt\n",
    "image_a.png\n",
    "...\n"
   ]
  },
  {
   "cell_type": "code",
   "execution_count": null,
   "metadata": {},
   "outputs": [],
   "source": [
    "file_path = \"../folder/\"\n",
    "file_list = os.listdir(file_path) # List all files in file path\n",
    "\n",
    "for file_name in file_list:\n",
    "    if \"(1)\" not in file_name:  ## you can change the duplicate symbol/word (e.g [original_name]copy.toto ) \n",
    "        continue\n",
    "    original_file_name = file_name.replace('(1)', '') # replace the duplication symbol/word by '' to get the original name of file\n",
    "    print(file_name)\n",
    "    print(original_file_name)\n",
    "    if not os.path.exists(os.path.join(file_path, original_file_name)) : ## return true if the file exists :\n",
    "        continue  # do not remove files which have no original\n",
    "    os.remove(os.path.join(file_path, file_name))"
   ]
  }
 ],
 "metadata": {
  "kernelspec": {
   "display_name": "Python 3",
   "language": "python",
   "name": "python3"
  },
  "language_info": {
   "codemirror_mode": {
    "name": "ipython",
    "version": 3
   },
   "file_extension": ".py",
   "mimetype": "text/x-python",
   "name": "python",
   "nbconvert_exporter": "python",
   "pygments_lexer": "ipython3",
   "version": "3.7.3"
  }
 },
 "nbformat": 4,
 "nbformat_minor": 4
}
